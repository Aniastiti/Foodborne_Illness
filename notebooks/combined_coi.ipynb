{
 "cells": [
  {
   "cell_type": "code",
   "execution_count": 1,
   "id": "8358b9a2",
   "metadata": {},
   "outputs": [],
   "source": [
    "import pandas as pd\n",
    "import numpy as np\n",
    "import matplotlib.pyplot as plt"
   ]
  },
  {
   "cell_type": "markdown",
   "id": "850eec49",
   "metadata": {},
   "source": [
    "# Campylobacter spp. (all species)"
   ]
  },
  {
   "cell_type": "code",
   "execution_count": 2,
   "id": "e20025bb",
   "metadata": {},
   "outputs": [
    {
     "ename": "FileNotFoundError",
     "evalue": "[Errno 2] No such file or directory: '../data_files/Campylobacter_2018.xlsx'",
     "output_type": "error",
     "traceback": [
      "\u001b[1;31m---------------------------------------------------------------------------\u001b[0m",
      "\u001b[1;31mFileNotFoundError\u001b[0m                         Traceback (most recent call last)",
      "\u001b[1;32m<ipython-input-2-b9d80b3803dd>\u001b[0m in \u001b[0;36m<module>\u001b[1;34m\u001b[0m\n\u001b[1;32m----> 1\u001b[1;33m campy = pd.read_excel('../data_files/Campylobacter_2018.xlsx', sheet_name='Campylobacter mean CoI 2018', \n\u001b[0m\u001b[0;32m      2\u001b[0m                       usecols='A:L', skiprows=5).dropna(thresh=2).reset_index(drop=True)\n\u001b[0;32m      3\u001b[0m \u001b[0mcampy\u001b[0m\u001b[1;33m[\u001b[0m\u001b[1;34m'Health outcomes'\u001b[0m\u001b[1;33m]\u001b[0m \u001b[1;33m=\u001b[0m \u001b[0mcampy\u001b[0m\u001b[1;33m[\u001b[0m\u001b[1;34m'Health outcomes'\u001b[0m\u001b[1;33m]\u001b[0m\u001b[1;33m.\u001b[0m\u001b[0mfillna\u001b[0m\u001b[1;33m(\u001b[0m\u001b[0mcampy\u001b[0m\u001b[1;33m[\u001b[0m\u001b[1;34m'Unnamed: 1'\u001b[0m\u001b[1;33m]\u001b[0m\u001b[1;33m)\u001b[0m\u001b[1;33m.\u001b[0m\u001b[0mto_frame\u001b[0m\u001b[1;33m(\u001b[0m\u001b[1;33m)\u001b[0m\u001b[1;33m\u001b[0m\u001b[1;33m\u001b[0m\u001b[0m\n\u001b[0;32m      4\u001b[0m \u001b[0mcampy\u001b[0m \u001b[1;33m=\u001b[0m \u001b[0mcampy\u001b[0m\u001b[1;33m.\u001b[0m\u001b[0mdrop\u001b[0m\u001b[1;33m(\u001b[0m\u001b[0mcolumns\u001b[0m\u001b[1;33m=\u001b[0m\u001b[1;33m[\u001b[0m\u001b[1;34m'Unnamed: 1'\u001b[0m\u001b[1;33m,\u001b[0m \u001b[1;34m'Unnamed: 2'\u001b[0m\u001b[1;33m,\u001b[0m \u001b[1;34m'Unnamed: 3'\u001b[0m\u001b[1;33m]\u001b[0m\u001b[1;33m)\u001b[0m\u001b[1;33m\u001b[0m\u001b[1;33m\u001b[0m\u001b[0m\n\u001b[0;32m      5\u001b[0m \u001b[0mcampy\u001b[0m \u001b[1;33m=\u001b[0m \u001b[0mcampy\u001b[0m\u001b[1;33m.\u001b[0m\u001b[0mdrop\u001b[0m\u001b[1;33m(\u001b[0m\u001b[0mindex\u001b[0m\u001b[1;33m=\u001b[0m\u001b[1;33m[\u001b[0m\u001b[1;36m9\u001b[0m\u001b[1;33m,\u001b[0m\u001b[1;36m6\u001b[0m\u001b[1;33m]\u001b[0m\u001b[1;33m)\u001b[0m\u001b[1;33m.\u001b[0m\u001b[0mreset_index\u001b[0m\u001b[1;33m(\u001b[0m\u001b[0mdrop\u001b[0m\u001b[1;33m=\u001b[0m\u001b[1;32mTrue\u001b[0m\u001b[1;33m)\u001b[0m\u001b[1;33m\u001b[0m\u001b[1;33m\u001b[0m\u001b[0m\n",
      "\u001b[1;32m~\\anaconda3\\lib\\site-packages\\pandas\\util\\_decorators.py\u001b[0m in \u001b[0;36mwrapper\u001b[1;34m(*args, **kwargs)\u001b[0m\n\u001b[0;32m    297\u001b[0m                 )\n\u001b[0;32m    298\u001b[0m                 \u001b[0mwarnings\u001b[0m\u001b[1;33m.\u001b[0m\u001b[0mwarn\u001b[0m\u001b[1;33m(\u001b[0m\u001b[0mmsg\u001b[0m\u001b[1;33m,\u001b[0m \u001b[0mFutureWarning\u001b[0m\u001b[1;33m,\u001b[0m \u001b[0mstacklevel\u001b[0m\u001b[1;33m=\u001b[0m\u001b[0mstacklevel\u001b[0m\u001b[1;33m)\u001b[0m\u001b[1;33m\u001b[0m\u001b[1;33m\u001b[0m\u001b[0m\n\u001b[1;32m--> 299\u001b[1;33m             \u001b[1;32mreturn\u001b[0m \u001b[0mfunc\u001b[0m\u001b[1;33m(\u001b[0m\u001b[1;33m*\u001b[0m\u001b[0margs\u001b[0m\u001b[1;33m,\u001b[0m \u001b[1;33m**\u001b[0m\u001b[0mkwargs\u001b[0m\u001b[1;33m)\u001b[0m\u001b[1;33m\u001b[0m\u001b[1;33m\u001b[0m\u001b[0m\n\u001b[0m\u001b[0;32m    300\u001b[0m \u001b[1;33m\u001b[0m\u001b[0m\n\u001b[0;32m    301\u001b[0m         \u001b[1;32mreturn\u001b[0m \u001b[0mwrapper\u001b[0m\u001b[1;33m\u001b[0m\u001b[1;33m\u001b[0m\u001b[0m\n",
      "\u001b[1;32m~\\anaconda3\\lib\\site-packages\\pandas\\io\\excel\\_base.py\u001b[0m in \u001b[0;36mread_excel\u001b[1;34m(io, sheet_name, header, names, index_col, usecols, squeeze, dtype, engine, converters, true_values, false_values, skiprows, nrows, na_values, keep_default_na, na_filter, verbose, parse_dates, date_parser, thousands, comment, skipfooter, convert_float, mangle_dupe_cols, storage_options)\u001b[0m\n\u001b[0;32m    334\u001b[0m     \u001b[1;32mif\u001b[0m \u001b[1;32mnot\u001b[0m \u001b[0misinstance\u001b[0m\u001b[1;33m(\u001b[0m\u001b[0mio\u001b[0m\u001b[1;33m,\u001b[0m \u001b[0mExcelFile\u001b[0m\u001b[1;33m)\u001b[0m\u001b[1;33m:\u001b[0m\u001b[1;33m\u001b[0m\u001b[1;33m\u001b[0m\u001b[0m\n\u001b[0;32m    335\u001b[0m         \u001b[0mshould_close\u001b[0m \u001b[1;33m=\u001b[0m \u001b[1;32mTrue\u001b[0m\u001b[1;33m\u001b[0m\u001b[1;33m\u001b[0m\u001b[0m\n\u001b[1;32m--> 336\u001b[1;33m         \u001b[0mio\u001b[0m \u001b[1;33m=\u001b[0m \u001b[0mExcelFile\u001b[0m\u001b[1;33m(\u001b[0m\u001b[0mio\u001b[0m\u001b[1;33m,\u001b[0m \u001b[0mstorage_options\u001b[0m\u001b[1;33m=\u001b[0m\u001b[0mstorage_options\u001b[0m\u001b[1;33m,\u001b[0m \u001b[0mengine\u001b[0m\u001b[1;33m=\u001b[0m\u001b[0mengine\u001b[0m\u001b[1;33m)\u001b[0m\u001b[1;33m\u001b[0m\u001b[1;33m\u001b[0m\u001b[0m\n\u001b[0m\u001b[0;32m    337\u001b[0m     \u001b[1;32melif\u001b[0m \u001b[0mengine\u001b[0m \u001b[1;32mand\u001b[0m \u001b[0mengine\u001b[0m \u001b[1;33m!=\u001b[0m \u001b[0mio\u001b[0m\u001b[1;33m.\u001b[0m\u001b[0mengine\u001b[0m\u001b[1;33m:\u001b[0m\u001b[1;33m\u001b[0m\u001b[1;33m\u001b[0m\u001b[0m\n\u001b[0;32m    338\u001b[0m         raise ValueError(\n",
      "\u001b[1;32m~\\anaconda3\\lib\\site-packages\\pandas\\io\\excel\\_base.py\u001b[0m in \u001b[0;36m__init__\u001b[1;34m(self, path_or_buffer, engine, storage_options)\u001b[0m\n\u001b[0;32m   1069\u001b[0m                 \u001b[0mext\u001b[0m \u001b[1;33m=\u001b[0m \u001b[1;34m\"xls\"\u001b[0m\u001b[1;33m\u001b[0m\u001b[1;33m\u001b[0m\u001b[0m\n\u001b[0;32m   1070\u001b[0m             \u001b[1;32melse\u001b[0m\u001b[1;33m:\u001b[0m\u001b[1;33m\u001b[0m\u001b[1;33m\u001b[0m\u001b[0m\n\u001b[1;32m-> 1071\u001b[1;33m                 ext = inspect_excel_format(\n\u001b[0m\u001b[0;32m   1072\u001b[0m                     \u001b[0mcontent\u001b[0m\u001b[1;33m=\u001b[0m\u001b[0mpath_or_buffer\u001b[0m\u001b[1;33m,\u001b[0m \u001b[0mstorage_options\u001b[0m\u001b[1;33m=\u001b[0m\u001b[0mstorage_options\u001b[0m\u001b[1;33m\u001b[0m\u001b[1;33m\u001b[0m\u001b[0m\n\u001b[0;32m   1073\u001b[0m                 )\n",
      "\u001b[1;32m~\\anaconda3\\lib\\site-packages\\pandas\\io\\excel\\_base.py\u001b[0m in \u001b[0;36minspect_excel_format\u001b[1;34m(path, content, storage_options)\u001b[0m\n\u001b[0;32m    947\u001b[0m     \u001b[1;32massert\u001b[0m \u001b[0mcontent_or_path\u001b[0m \u001b[1;32mis\u001b[0m \u001b[1;32mnot\u001b[0m \u001b[1;32mNone\u001b[0m\u001b[1;33m\u001b[0m\u001b[1;33m\u001b[0m\u001b[0m\n\u001b[0;32m    948\u001b[0m \u001b[1;33m\u001b[0m\u001b[0m\n\u001b[1;32m--> 949\u001b[1;33m     with get_handle(\n\u001b[0m\u001b[0;32m    950\u001b[0m         \u001b[0mcontent_or_path\u001b[0m\u001b[1;33m,\u001b[0m \u001b[1;34m\"rb\"\u001b[0m\u001b[1;33m,\u001b[0m \u001b[0mstorage_options\u001b[0m\u001b[1;33m=\u001b[0m\u001b[0mstorage_options\u001b[0m\u001b[1;33m,\u001b[0m \u001b[0mis_text\u001b[0m\u001b[1;33m=\u001b[0m\u001b[1;32mFalse\u001b[0m\u001b[1;33m\u001b[0m\u001b[1;33m\u001b[0m\u001b[0m\n\u001b[0;32m    951\u001b[0m     ) as handle:\n",
      "\u001b[1;32m~\\anaconda3\\lib\\site-packages\\pandas\\io\\common.py\u001b[0m in \u001b[0;36mget_handle\u001b[1;34m(path_or_buf, mode, encoding, compression, memory_map, is_text, errors, storage_options)\u001b[0m\n\u001b[0;32m    649\u001b[0m         \u001b[1;32melse\u001b[0m\u001b[1;33m:\u001b[0m\u001b[1;33m\u001b[0m\u001b[1;33m\u001b[0m\u001b[0m\n\u001b[0;32m    650\u001b[0m             \u001b[1;31m# Binary mode\u001b[0m\u001b[1;33m\u001b[0m\u001b[1;33m\u001b[0m\u001b[1;33m\u001b[0m\u001b[0m\n\u001b[1;32m--> 651\u001b[1;33m             \u001b[0mhandle\u001b[0m \u001b[1;33m=\u001b[0m \u001b[0mopen\u001b[0m\u001b[1;33m(\u001b[0m\u001b[0mhandle\u001b[0m\u001b[1;33m,\u001b[0m \u001b[0mioargs\u001b[0m\u001b[1;33m.\u001b[0m\u001b[0mmode\u001b[0m\u001b[1;33m)\u001b[0m\u001b[1;33m\u001b[0m\u001b[1;33m\u001b[0m\u001b[0m\n\u001b[0m\u001b[0;32m    652\u001b[0m         \u001b[0mhandles\u001b[0m\u001b[1;33m.\u001b[0m\u001b[0mappend\u001b[0m\u001b[1;33m(\u001b[0m\u001b[0mhandle\u001b[0m\u001b[1;33m)\u001b[0m\u001b[1;33m\u001b[0m\u001b[1;33m\u001b[0m\u001b[0m\n\u001b[0;32m    653\u001b[0m \u001b[1;33m\u001b[0m\u001b[0m\n",
      "\u001b[1;31mFileNotFoundError\u001b[0m: [Errno 2] No such file or directory: '../data_files/Campylobacter_2018.xlsx'"
     ]
    }
   ],
   "source": [
    "campy = pd.read_excel('../data_files/Campylobacter_2018.xlsx', sheet_name='Campylobacter mean CoI 2018', \n",
    "                      usecols='A:L', skiprows=5).dropna(thresh=2).reset_index(drop=True)\n",
    "campy['Health outcomes'] = campy['Health outcomes'].fillna(campy['Unnamed: 1']).to_frame()\n",
    "campy = campy.drop(columns=['Unnamed: 1', 'Unnamed: 2', 'Unnamed: 3'])\n",
    "campy = campy.drop(index=[9,6]).reset_index(drop=True)\n",
    "campy['causative_agent'] = 'Campylobacter spp. (all species)'\n",
    "campy"
   ]
  },
  {
   "cell_type": "code",
   "execution_count": null,
   "id": "77ef4414",
   "metadata": {},
   "outputs": [],
   "source": []
  },
  {
   "cell_type": "code",
   "execution_count": null,
   "id": "64d7c194",
   "metadata": {},
   "outputs": [],
   "source": [
    "campy.info()"
   ]
  },
  {
   "cell_type": "markdown",
   "id": "59f46288",
   "metadata": {},
   "source": [
    "# Clostridium perfringens"
   ]
  },
  {
   "cell_type": "code",
   "execution_count": null,
   "id": "fbb01a9a",
   "metadata": {},
   "outputs": [],
   "source": [
    "cper = pd.read_excel('../data_files/Clostridium_2018.xlsx', sheet_name='C. perfringens mean COI 2018', \n",
    "                     usecols='A:J', skiprows=5).dropna(thresh=2).reset_index(drop=True)\n",
    "cper['Health outcomes'] = cper['Health outcomes'].fillna(cper['Unnamed: 1']).to_frame()\n",
    "cper = cper.drop(columns=['Unnamed: 1', 'Unnamed: 2', 'Unnamed: 3'])\n",
    "cper = cper.drop(index=[9,6]).reset_index(drop=True)\n",
    "cper['causative_agent'] = 'Clostridium perfringens'\n",
    "cper"
   ]
  },
  {
   "cell_type": "code",
   "execution_count": null,
   "id": "aabb8441",
   "metadata": {},
   "outputs": [],
   "source": [
    "cper.info()"
   ]
  },
  {
   "cell_type": "markdown",
   "id": "ec625798",
   "metadata": {},
   "source": [
    "# Cryptosporidium spp. (all species)"
   ]
  },
  {
   "cell_type": "code",
   "execution_count": null,
   "id": "9da53a39",
   "metadata": {},
   "outputs": [],
   "source": [
    "cpar = pd.read_excel('../data_files/Cryptosporidium_2018.xlsx', sheet_name='Cryptosporidium mean COI 2018', \n",
    "                     usecols='A:K', skiprows=5).dropna(thresh=2).reset_index(drop=True)\n",
    "cpar['Health outcomes'] = cpar['Health outcomes'].fillna(cpar['Unnamed: 1']).to_frame()\n",
    "cpar = cpar.drop(columns=['Unnamed: 1', 'Unnamed: 2', 'Unnamed: 3'])\n",
    "cpar = cpar.drop(index=[9,6]).reset_index(drop=True)\n",
    "cpar['causative_agent'] = 'Cryptosporidium spp. (all species)'\n",
    "cpar"
   ]
  },
  {
   "cell_type": "code",
   "execution_count": null,
   "id": "4709d175",
   "metadata": {},
   "outputs": [],
   "source": [
    "cpar.info()"
   ]
  },
  {
   "cell_type": "markdown",
   "id": "4449ed8b",
   "metadata": {},
   "source": [
    "# Cyclospora cayetanensis"
   ]
  },
  {
   "cell_type": "code",
   "execution_count": null,
   "id": "e071dc9f",
   "metadata": {},
   "outputs": [],
   "source": [
    "ccay = pd.read_excel('../data_files/Cyclospora_2018.xlsx', sheet_name='Mean Cost Estimate 2018', \n",
    "                     usecols='A:J', skiprows=5).dropna(thresh=2).reset_index(drop=True)\n",
    "ccay['Health outcomes'] = ccay['Health outcomes'].fillna(ccay['Unnamed: 1']).to_frame()\n",
    "ccay = ccay.drop(columns=['Unnamed: 1', 'Unnamed: 2', 'Unnamed: 3'])\n",
    "ccay = ccay.drop(index=[9,6]).reset_index(drop=True)\n",
    "ccay['causative_agent'] = 'Cyclospora cayetanensis'\n",
    "ccay"
   ]
  },
  {
   "cell_type": "code",
   "execution_count": null,
   "id": "760eaafb",
   "metadata": {},
   "outputs": [],
   "source": [
    "ccay.info()"
   ]
  },
  {
   "cell_type": "markdown",
   "id": "35101e0a",
   "metadata": {},
   "source": [
    "# Listeria monocytogenes"
   ]
  },
  {
   "cell_type": "code",
   "execution_count": null,
   "id": "9cac0bf9",
   "metadata": {},
   "outputs": [],
   "source": [
    "lmono = pd.read_excel('../data_files/Listeria_2018.xlsx', sheet_name='Listeria mean CoI 2018', \n",
    "                     usecols='A:R', skiprows=5).dropna(thresh=2).reset_index(drop=True)\n",
    "lmono['Unnamed: 1'] = lmono['Unnamed: 1'].fillna(lmono['Unnamed: 2']).to_frame()\n",
    "lmono['Health outcomes'] = lmono['Health outcomes'].fillna(lmono['Unnamed: 1']).to_frame()\n",
    "lmono = lmono.drop(columns=['Unnamed: 1', 'Unnamed: 2', 'Unnamed: 3'])\n",
    "lmono = lmono.drop(index=[6,3]).reset_index(drop=True)\n",
    "lmono['causative_agent'] = 'Listeria monocytogenes'\n",
    "lmono"
   ]
  },
  {
   "cell_type": "markdown",
   "id": "4d987ee8",
   "metadata": {},
   "source": [
    "# Norovirus"
   ]
  },
  {
   "cell_type": "code",
   "execution_count": null,
   "id": "e9c800ee",
   "metadata": {},
   "outputs": [],
   "source": [
    "noro = pd.read_excel('../data_files/Norovirus_2018.xlsx', sheet_name='Norovirus mean COI 2018', \n",
    "                     usecols='A:J', skiprows=4).dropna(thresh=2).reset_index(drop=True)\n",
    "noro['Health outcomes'] = noro['Health outcomes'].fillna(noro['Unnamed: 1']).to_frame()\n",
    "noro = noro.drop(columns=['Unnamed: 1', 'Unnamed: 2', 'Unnamed: 3'])\n",
    "noro = noro.drop(index=[9,6]).reset_index(drop=True)\n",
    "noro['causative_agent'] = 'Norovirus'\n",
    "noro"
   ]
  },
  {
   "cell_type": "code",
   "execution_count": null,
   "id": "31c578b6",
   "metadata": {},
   "outputs": [],
   "source": [
    "noro.info()"
   ]
  },
  {
   "cell_type": "markdown",
   "id": "026f47b5",
   "metadata": {},
   "source": [
    "# Salmonella (non-typhoidal species)"
   ]
  },
  {
   "cell_type": "code",
   "execution_count": null,
   "id": "135b54d9",
   "metadata": {},
   "outputs": [],
   "source": [
    "salm = pd.read_excel('../data_files/Salmonella_2018.xlsx', sheet_name='Salmonella Mean COI 2018', \n",
    "                     usecols='A:J', skiprows=4).dropna(thresh=2).reset_index(drop=True)\n",
    "salm['Health outcomes'] = salm['Health outcomes'].fillna(salm['Unnamed: 1']).to_frame()\n",
    "salm = salm.drop(columns=['Unnamed: 1', 'Unnamed: 2', 'Unnamed: 3'])\n",
    "salm = salm.drop(index=[9,6]).reset_index(drop=True)\n",
    "salm['causative_agent'] = 'Salmonella'\n",
    "salm"
   ]
  },
  {
   "cell_type": "code",
   "execution_count": null,
   "id": "fa992a18",
   "metadata": {},
   "outputs": [],
   "source": [
    "salm.info()"
   ]
  },
  {
   "cell_type": "markdown",
   "id": "a0dde948",
   "metadata": {},
   "source": [
    "# Shigella (all species)"
   ]
  },
  {
   "cell_type": "code",
   "execution_count": null,
   "id": "a58c6044",
   "metadata": {},
   "outputs": [],
   "source": [
    "shig = pd.read_excel('../data_files/Shigella_2018.xlsx', sheet_name='Shigella mean COI 2018', \n",
    "                     usecols='A:J', skiprows=4).dropna(thresh=2).reset_index(drop=True)\n",
    "shig['Health outcomes'] = shig['Health outcomes'].fillna(shig['Unnamed: 1']).to_frame()\n",
    "shig = shig.drop(columns=['Unnamed: 1', 'Unnamed: 2', 'Unnamed: 3'])\n",
    "shig = shig.drop(index=[9,6]).reset_index(drop=True)\n",
    "shig['causative_agent'] = 'Shigella (all species)'\n",
    "shig"
   ]
  },
  {
   "cell_type": "code",
   "execution_count": null,
   "id": "e6c2a607",
   "metadata": {},
   "outputs": [],
   "source": [
    "shig.info()"
   ]
  },
  {
   "cell_type": "markdown",
   "id": "ca55fdcb",
   "metadata": {},
   "source": [
    "# Shiga toxin-producing Escherichia coli O157 (STEC O157)# "
   ]
  },
  {
   "cell_type": "code",
   "execution_count": null,
   "id": "5f1120ad",
   "metadata": {},
   "outputs": [],
   "source": [
    "stec = pd.read_excel('../data_files/STEC_O157_2018.xlsx', sheet_name='STEC O157 Mean COI 2018', \n",
    "                     usecols='A:M', skiprows=4).dropna(thresh=2).reset_index(drop=True)\n",
    "stec['Unnamed: 1'] = stec['Unnamed: 1'].fillna(stec['Unnamed: 2']).to_frame()\n",
    "stec['Health outcomes'] = stec['Health outcomes'].fillna(stec['Unnamed: 1']).to_frame()\n",
    "stec = stec.drop(columns=['Unnamed: 1', 'Unnamed: 2', 'Unnamed: 3'])\n",
    "stec = stec.drop(index=[10,7]).reset_index(drop=True)\n",
    "stec['causative_agent'] = 'STEC O157'\n",
    "stec"
   ]
  },
  {
   "cell_type": "code",
   "execution_count": null,
   "id": "d3dba0b8",
   "metadata": {},
   "outputs": [],
   "source": [
    "stec.info()"
   ]
  },
  {
   "cell_type": "markdown",
   "id": "cf1f42f1",
   "metadata": {},
   "source": [
    "# non-O157 Shiga toxin-producing Escherichia coli (STEC non-O157)"
   ]
  },
  {
   "cell_type": "code",
   "execution_count": null,
   "id": "f80f8cb0",
   "metadata": {},
   "outputs": [],
   "source": [
    "nono157 = pd.read_excel('../data_files/STEC_non-O157_2018.xlsx', sheet_name='STEC non-O157 Mean COI 2018', \n",
    "                     usecols='A:M', skiprows=4).dropna(thresh=2).reset_index(drop=True)\n",
    "nono157['Unnamed: 1'] = nono157['Unnamed: 1'].fillna(nono157['Unnamed: 2']).to_frame()\n",
    "nono157['Health outcomes'] = nono157['Health outcomes'].fillna(nono157['Unnamed: 1']).to_frame()\n",
    "nono157 = nono157.drop(columns=['Unnamed: 1', 'Unnamed: 2', 'Unnamed: 3'])\n",
    "nono157 = nono157.drop(index=[10,7]).reset_index(drop=True)\n",
    "nono157['causative_agent'] = 'STEC non-O157'\n",
    "nono157"
   ]
  },
  {
   "cell_type": "code",
   "execution_count": null,
   "id": "55e01e6e",
   "metadata": {},
   "outputs": [],
   "source": [
    "nono157.info()"
   ]
  },
  {
   "cell_type": "markdown",
   "id": "cc508dbf",
   "metadata": {},
   "source": [
    "# Toxoplasma gondii"
   ]
  },
  {
   "cell_type": "code",
   "execution_count": null,
   "id": "e22d6dc0",
   "metadata": {},
   "outputs": [],
   "source": [
    "tgon = pd.read_excel('../data_files/Toxoplasma_2018.xlsx', sheet_name='Toxoplasma mean COI 2018', \n",
    "                     usecols='A:L', skiprows=5).dropna(thresh=2).reset_index(drop=True)\n",
    "tgon['Health outcomes'] = tgon['Health outcomes'].fillna(tgon['Unnamed: 1']).to_frame()\n",
    "tgon = tgon.drop(columns=['Unnamed: 1', 'Unnamed: 2', 'Unnamed: 3'])\n",
    "tgon = tgon.drop(index=[9,6]).reset_index(drop=True)\n",
    "tgon['causative_agent'] = 'Toxoplasma gondii'\n",
    "tgon"
   ]
  },
  {
   "cell_type": "code",
   "execution_count": null,
   "id": "1d020f6d",
   "metadata": {},
   "outputs": [],
   "source": [
    "tgon.info()"
   ]
  },
  {
   "cell_type": "markdown",
   "id": "6efb84a9",
   "metadata": {},
   "source": [
    "# Vibrio parahaemolyticus"
   ]
  },
  {
   "cell_type": "code",
   "execution_count": null,
   "id": "f8b9922d",
   "metadata": {},
   "outputs": [],
   "source": [
    "vpar = pd.read_excel('../data_files/Vibrio_para_2018.xlsx', sheet_name='mean COI 2018', \n",
    "                     usecols='A:J', skiprows=4).dropna(thresh=2).reset_index(drop=True)\n",
    "vpar['Health outcomes'] = vpar['Health outcomes'].fillna(vpar['Unnamed: 1']).to_frame()\n",
    "vpar = vpar.drop(columns=['Unnamed: 1', 'Unnamed: 2', 'Unnamed: 3'])\n",
    "vpar = vpar.drop(index=[9,6]).reset_index(drop=True)\n",
    "vpar['causative_agent'] = 'Vibrio parahaemolyticus'\n",
    "vpar"
   ]
  },
  {
   "cell_type": "code",
   "execution_count": null,
   "id": "6ce8d53b",
   "metadata": {},
   "outputs": [],
   "source": [
    "vpar.info()"
   ]
  },
  {
   "cell_type": "markdown",
   "id": "561b1aab",
   "metadata": {},
   "source": [
    "# Vibrio vulnificus"
   ]
  },
  {
   "cell_type": "code",
   "execution_count": null,
   "id": "9d7eadcb",
   "metadata": {},
   "outputs": [],
   "source": [
    "vvul = pd.read_excel('../data_files/Vibrio_vulnificus_2018.xlsx', sheet_name='Vibrio vulnificus mean COI 2018', \n",
    "                     usecols='A:M', skiprows=4).dropna(thresh=2).reset_index(drop=True)\n",
    "vvul['Health outcomes'] = vvul['Health outcomes'].fillna(vvul['Unnamed: 1']).to_frame()\n",
    "vvul = vvul.drop(columns=['Unnamed: 1', 'Unnamed: 2', 'Unnamed: 3'])\n",
    "vvul = vvul.drop(index=[9,6]).reset_index(drop=True)\n",
    "vvul['causative_agent'] = 'Vibrio vulnificus'\n",
    "vvul"
   ]
  },
  {
   "cell_type": "code",
   "execution_count": null,
   "id": "fc53d9d8",
   "metadata": {},
   "outputs": [],
   "source": [
    "vvul.info()"
   ]
  },
  {
   "cell_type": "markdown",
   "id": "71475eed",
   "metadata": {},
   "source": [
    "# Vibrio non-cholera species other than V. parahaemolyticus and V. vulnificus"
   ]
  },
  {
   "cell_type": "code",
   "execution_count": null,
   "id": "c6fc3f8e",
   "metadata": {},
   "outputs": [],
   "source": [
    "vother = pd.read_excel('../data_files/Vibrio_other_2018.xlsx', sheet_name='Vibrio other mean COI 2018', \n",
    "                     usecols='A:J', skiprows=4).dropna(thresh=2).reset_index(drop=True)\n",
    "vother['Health outcomes'] = vother['Health outcomes'].fillna(vother['Unnamed: 1']).to_frame()\n",
    "vother = vother.drop(columns=['Unnamed: 1', 'Unnamed: 2', 'Unnamed: 3'])\n",
    "vother = vother.drop(index=[9,6]).reset_index(drop=True)\n",
    "vother['causative_agent'] = 'Vibrio non-cholera other'\n",
    "vother"
   ]
  },
  {
   "cell_type": "code",
   "execution_count": null,
   "id": "94a88429",
   "metadata": {},
   "outputs": [],
   "source": [
    "vother.info()"
   ]
  },
  {
   "cell_type": "markdown",
   "id": "22f7846f",
   "metadata": {},
   "source": [
    "# Yersinia enterocolitica"
   ]
  },
  {
   "cell_type": "code",
   "execution_count": null,
   "id": "2aeea4ce",
   "metadata": {},
   "outputs": [],
   "source": [
    "yent = pd.read_excel('../data_files/Yersinia_2018.xlsx', sheet_name='Yersinia mean COI 2018', \n",
    "                     usecols='A:N', skiprows=4).dropna(thresh=2).reset_index(drop=True)\n",
    "yent['Health outcomes'] = yent['Health outcomes'].fillna(yent['Unnamed: 1']).to_frame()\n",
    "yent = yent.drop(columns=['Unnamed: 1', 'Unnamed: 2', 'Unnamed: 3'])\n",
    "yent = yent.drop(index=[9,6]).reset_index(drop=True)\n",
    "yent['causative_agent'] = 'Yersinia enterocolitica'\n",
    "yent"
   ]
  },
  {
   "cell_type": "code",
   "execution_count": null,
   "id": "77866023",
   "metadata": {},
   "outputs": [],
   "source": [
    "yent.info()"
   ]
  },
  {
   "cell_type": "markdown",
   "id": "3efce156",
   "metadata": {},
   "source": [
    "# Total cost per top 15 pathogens"
   ]
  },
  {
   "cell_type": "code",
   "execution_count": 3,
   "id": "97b32b39",
   "metadata": {},
   "outputs": [
    {
     "data": {
      "text/html": [
       "<div>\n",
       "<style scoped>\n",
       "    .dataframe tbody tr th:only-of-type {\n",
       "        vertical-align: middle;\n",
       "    }\n",
       "\n",
       "    .dataframe tbody tr th {\n",
       "        vertical-align: top;\n",
       "    }\n",
       "\n",
       "    .dataframe thead th {\n",
       "        text-align: right;\n",
       "    }\n",
       "</style>\n",
       "<table border=\"1\" class=\"dataframe\">\n",
       "  <thead>\n",
       "    <tr style=\"text-align: right;\">\n",
       "      <th></th>\n",
       "      <th>Pathogen</th>\n",
       "      <th>Cost</th>\n",
       "      <th>Cases</th>\n",
       "    </tr>\n",
       "  </thead>\n",
       "  <tbody>\n",
       "    <tr>\n",
       "      <th>0</th>\n",
       "      <td>Cyclospora cayetanensis</td>\n",
       "      <td>2.571518e+06</td>\n",
       "      <td>11407.0</td>\n",
       "    </tr>\n",
       "    <tr>\n",
       "      <th>1</th>\n",
       "      <td>Escherichia coli (STEC non-O157)</td>\n",
       "      <td>3.170185e+07</td>\n",
       "      <td>112752.0</td>\n",
       "    </tr>\n",
       "    <tr>\n",
       "      <th>2</th>\n",
       "      <td>Vibrio parahaemolyticus</td>\n",
       "      <td>4.573533e+07</td>\n",
       "      <td>34664.0</td>\n",
       "    </tr>\n",
       "    <tr>\n",
       "      <th>3</th>\n",
       "      <td>Cryptosporidium spp. (all species)</td>\n",
       "      <td>5.839415e+07</td>\n",
       "      <td>57616.0</td>\n",
       "    </tr>\n",
       "    <tr>\n",
       "      <th>4</th>\n",
       "      <td>Vibrio non-cholera spp.</td>\n",
       "      <td>8.174906e+07</td>\n",
       "      <td>17564.0</td>\n",
       "    </tr>\n",
       "    <tr>\n",
       "      <th>5</th>\n",
       "      <td>Shigella (all species)</td>\n",
       "      <td>1.592024e+08</td>\n",
       "      <td>131254.0</td>\n",
       "    </tr>\n",
       "    <tr>\n",
       "      <th>6</th>\n",
       "      <td>Escherichia coli O157 (STEC O157)</td>\n",
       "      <td>3.110369e+08</td>\n",
       "      <td>63153.0</td>\n",
       "    </tr>\n",
       "    <tr>\n",
       "      <th>7</th>\n",
       "      <td>Yersinia enterocolitica</td>\n",
       "      <td>3.132979e+08</td>\n",
       "      <td>97656.0</td>\n",
       "    </tr>\n",
       "    <tr>\n",
       "      <th>8</th>\n",
       "      <td>Vibrio vulnificus</td>\n",
       "      <td>3.594816e+08</td>\n",
       "      <td>96.0</td>\n",
       "    </tr>\n",
       "    <tr>\n",
       "      <th>9</th>\n",
       "      <td>Clostridium perfringens</td>\n",
       "      <td>3.842779e+08</td>\n",
       "      <td>965958.0</td>\n",
       "    </tr>\n",
       "    <tr>\n",
       "      <th>10</th>\n",
       "      <td>Campylobacter spp. (all species)</td>\n",
       "      <td>2.181486e+09</td>\n",
       "      <td>845024.0</td>\n",
       "    </tr>\n",
       "    <tr>\n",
       "      <th>11</th>\n",
       "      <td>Norovirus</td>\n",
       "      <td>2.566984e+09</td>\n",
       "      <td>5461731.0</td>\n",
       "    </tr>\n",
       "    <tr>\n",
       "      <th>12</th>\n",
       "      <td>Listeria monocytogenes</td>\n",
       "      <td>3.189686e+09</td>\n",
       "      <td>1591.0</td>\n",
       "    </tr>\n",
       "    <tr>\n",
       "      <th>13</th>\n",
       "      <td>Toxoplasma gondii</td>\n",
       "      <td>3.744009e+09</td>\n",
       "      <td>86686.0</td>\n",
       "    </tr>\n",
       "    <tr>\n",
       "      <th>14</th>\n",
       "      <td>Salmonella (non-typhoidal species)</td>\n",
       "      <td>4.142179e+09</td>\n",
       "      <td>1027561.0</td>\n",
       "    </tr>\n",
       "    <tr>\n",
       "      <th>15</th>\n",
       "      <td>Total for all 15 pathogens</td>\n",
       "      <td>1.757179e+10</td>\n",
       "      <td>8914713.0</td>\n",
       "    </tr>\n",
       "  </tbody>\n",
       "</table>\n",
       "</div>"
      ],
      "text/plain": [
       "                              Pathogen          Cost      Cases\n",
       "0              Cyclospora cayetanensis  2.571518e+06    11407.0\n",
       "1     Escherichia coli (STEC non-O157)  3.170185e+07   112752.0\n",
       "2              Vibrio parahaemolyticus  4.573533e+07    34664.0\n",
       "3   Cryptosporidium spp. (all species)  5.839415e+07    57616.0\n",
       "4              Vibrio non-cholera spp.  8.174906e+07    17564.0\n",
       "5               Shigella (all species)  1.592024e+08   131254.0\n",
       "6    Escherichia coli O157 (STEC O157)  3.110369e+08    63153.0\n",
       "7              Yersinia enterocolitica  3.132979e+08    97656.0\n",
       "8                    Vibrio vulnificus  3.594816e+08       96.0\n",
       "9              Clostridium perfringens  3.842779e+08   965958.0\n",
       "10    Campylobacter spp. (all species)  2.181486e+09   845024.0\n",
       "11                           Norovirus  2.566984e+09  5461731.0\n",
       "12              Listeria monocytogenes  3.189686e+09     1591.0\n",
       "13                   Toxoplasma gondii  3.744009e+09    86686.0\n",
       "14  Salmonella (non-typhoidal species)  4.142179e+09  1027561.0\n",
       "15          Total for all 15 pathogens  1.757179e+10  8914713.0"
      ]
     },
     "execution_count": 3,
     "metadata": {},
     "output_type": "execute_result"
    }
   ],
   "source": [
    "tcost_df = pd.read_excel('../data_files/Total_cost_for_top_15_pathogens_2018_USDA.xlsx', \n",
    "                     usecols='A:C', skiprows=4).dropna().reset_index(drop=True)\n",
    "tcost_df = tcost_df.rename(columns = {'Unnamed: 0': 'Pathogen'})\n",
    "tcost_df"
   ]
  },
  {
   "cell_type": "code",
   "execution_count": 4,
   "id": "80fa7cda",
   "metadata": {},
   "outputs": [],
   "source": [
    "# tcost_df = tcost_df.sort_values('Cost')\n",
    "# tcost_df = tcost_df.drop(index=[15]).reset_index(drop=True)\n",
    "# tcost_df['Cost'] = tcost_df['Cost'].apply(lambda x: '${:,.0f}'.format(x))\n",
    "# tcost_df"
   ]
  },
  {
   "cell_type": "code",
   "execution_count": 5,
   "id": "306c5a2a",
   "metadata": {},
   "outputs": [
    {
     "data": {
      "text/html": [
       "<div>\n",
       "<style scoped>\n",
       "    .dataframe tbody tr th:only-of-type {\n",
       "        vertical-align: middle;\n",
       "    }\n",
       "\n",
       "    .dataframe tbody tr th {\n",
       "        vertical-align: top;\n",
       "    }\n",
       "\n",
       "    .dataframe thead th {\n",
       "        text-align: right;\n",
       "    }\n",
       "</style>\n",
       "<table border=\"1\" class=\"dataframe\">\n",
       "  <thead>\n",
       "    <tr style=\"text-align: right;\">\n",
       "      <th></th>\n",
       "      <th>Pathogen</th>\n",
       "      <th>Cost</th>\n",
       "      <th>Cases</th>\n",
       "    </tr>\n",
       "  </thead>\n",
       "  <tbody>\n",
       "    <tr>\n",
       "      <th>0</th>\n",
       "      <td>Salmonella (non-typhoidal species)</td>\n",
       "      <td>4.142179e+09</td>\n",
       "      <td>1027561.0</td>\n",
       "    </tr>\n",
       "    <tr>\n",
       "      <th>1</th>\n",
       "      <td>Toxoplasma gondii</td>\n",
       "      <td>3.744009e+09</td>\n",
       "      <td>86686.0</td>\n",
       "    </tr>\n",
       "    <tr>\n",
       "      <th>2</th>\n",
       "      <td>Listeria monocytogenes</td>\n",
       "      <td>3.189686e+09</td>\n",
       "      <td>1591.0</td>\n",
       "    </tr>\n",
       "    <tr>\n",
       "      <th>3</th>\n",
       "      <td>Norovirus</td>\n",
       "      <td>2.566984e+09</td>\n",
       "      <td>5461731.0</td>\n",
       "    </tr>\n",
       "    <tr>\n",
       "      <th>4</th>\n",
       "      <td>Campylobacter spp. (all species)</td>\n",
       "      <td>2.181486e+09</td>\n",
       "      <td>845024.0</td>\n",
       "    </tr>\n",
       "    <tr>\n",
       "      <th>5</th>\n",
       "      <td>Clostridium perfringens</td>\n",
       "      <td>3.842779e+08</td>\n",
       "      <td>965958.0</td>\n",
       "    </tr>\n",
       "    <tr>\n",
       "      <th>6</th>\n",
       "      <td>Vibrio vulnificus</td>\n",
       "      <td>3.594816e+08</td>\n",
       "      <td>96.0</td>\n",
       "    </tr>\n",
       "    <tr>\n",
       "      <th>7</th>\n",
       "      <td>Yersinia enterocolitica</td>\n",
       "      <td>3.132979e+08</td>\n",
       "      <td>97656.0</td>\n",
       "    </tr>\n",
       "    <tr>\n",
       "      <th>8</th>\n",
       "      <td>Escherichia coli O157 (STEC O157)</td>\n",
       "      <td>3.110369e+08</td>\n",
       "      <td>63153.0</td>\n",
       "    </tr>\n",
       "    <tr>\n",
       "      <th>9</th>\n",
       "      <td>Shigella (all species)</td>\n",
       "      <td>1.592024e+08</td>\n",
       "      <td>131254.0</td>\n",
       "    </tr>\n",
       "    <tr>\n",
       "      <th>10</th>\n",
       "      <td>Vibrio non-cholera spp.</td>\n",
       "      <td>8.174906e+07</td>\n",
       "      <td>17564.0</td>\n",
       "    </tr>\n",
       "    <tr>\n",
       "      <th>11</th>\n",
       "      <td>Cryptosporidium spp. (all species)</td>\n",
       "      <td>5.839415e+07</td>\n",
       "      <td>57616.0</td>\n",
       "    </tr>\n",
       "    <tr>\n",
       "      <th>12</th>\n",
       "      <td>Vibrio parahaemolyticus</td>\n",
       "      <td>4.573533e+07</td>\n",
       "      <td>34664.0</td>\n",
       "    </tr>\n",
       "    <tr>\n",
       "      <th>13</th>\n",
       "      <td>Escherichia coli (STEC non-O157)</td>\n",
       "      <td>3.170185e+07</td>\n",
       "      <td>112752.0</td>\n",
       "    </tr>\n",
       "    <tr>\n",
       "      <th>14</th>\n",
       "      <td>Cyclospora cayetanensis</td>\n",
       "      <td>2.571518e+06</td>\n",
       "      <td>11407.0</td>\n",
       "    </tr>\n",
       "  </tbody>\n",
       "</table>\n",
       "</div>"
      ],
      "text/plain": [
       "                              Pathogen          Cost      Cases\n",
       "0   Salmonella (non-typhoidal species)  4.142179e+09  1027561.0\n",
       "1                    Toxoplasma gondii  3.744009e+09    86686.0\n",
       "2               Listeria monocytogenes  3.189686e+09     1591.0\n",
       "3                            Norovirus  2.566984e+09  5461731.0\n",
       "4     Campylobacter spp. (all species)  2.181486e+09   845024.0\n",
       "5              Clostridium perfringens  3.842779e+08   965958.0\n",
       "6                    Vibrio vulnificus  3.594816e+08       96.0\n",
       "7              Yersinia enterocolitica  3.132979e+08    97656.0\n",
       "8    Escherichia coli O157 (STEC O157)  3.110369e+08    63153.0\n",
       "9               Shigella (all species)  1.592024e+08   131254.0\n",
       "10             Vibrio non-cholera spp.  8.174906e+07    17564.0\n",
       "11  Cryptosporidium spp. (all species)  5.839415e+07    57616.0\n",
       "12             Vibrio parahaemolyticus  4.573533e+07    34664.0\n",
       "13    Escherichia coli (STEC non-O157)  3.170185e+07   112752.0\n",
       "14             Cyclospora cayetanensis  2.571518e+06    11407.0"
      ]
     },
     "execution_count": 5,
     "metadata": {},
     "output_type": "execute_result"
    }
   ],
   "source": [
    "tcost_df = tcost_df.drop(index=[15])\n",
    "tcost_df = tcost_df.sort_values('Cost', ascending = False).reset_index(drop=True)\n",
    "#tcost_df['Cost'] = tcost_df['Cost'].apply(lambda x: '${:,.0f}'.format(x))\n",
    "tcost_df"
   ]
  },
  {
   "cell_type": "code",
   "execution_count": 6,
   "id": "0c107c0f",
   "metadata": {},
   "outputs": [
    {
     "data": {
      "text/html": [
       "<div>\n",
       "<style scoped>\n",
       "    .dataframe tbody tr th:only-of-type {\n",
       "        vertical-align: middle;\n",
       "    }\n",
       "\n",
       "    .dataframe tbody tr th {\n",
       "        vertical-align: top;\n",
       "    }\n",
       "\n",
       "    .dataframe thead th {\n",
       "        text-align: right;\n",
       "    }\n",
       "</style>\n",
       "<table border=\"1\" class=\"dataframe\">\n",
       "  <thead>\n",
       "    <tr style=\"text-align: right;\">\n",
       "      <th></th>\n",
       "      <th>Pathogen</th>\n",
       "      <th>Cost</th>\n",
       "      <th>Cases</th>\n",
       "    </tr>\n",
       "  </thead>\n",
       "  <tbody>\n",
       "    <tr>\n",
       "      <th>0</th>\n",
       "      <td>Salmonella (non-typhoidal species)</td>\n",
       "      <td>$4,142,179,161</td>\n",
       "      <td>1027561.0</td>\n",
       "    </tr>\n",
       "    <tr>\n",
       "      <th>1</th>\n",
       "      <td>Toxoplasma gondii</td>\n",
       "      <td>$3,744,008,907</td>\n",
       "      <td>86686.0</td>\n",
       "    </tr>\n",
       "    <tr>\n",
       "      <th>2</th>\n",
       "      <td>Listeria monocytogenes</td>\n",
       "      <td>$3,189,686,110</td>\n",
       "      <td>1591.0</td>\n",
       "    </tr>\n",
       "    <tr>\n",
       "      <th>3</th>\n",
       "      <td>Norovirus</td>\n",
       "      <td>$2,566,984,191</td>\n",
       "      <td>5461731.0</td>\n",
       "    </tr>\n",
       "    <tr>\n",
       "      <th>4</th>\n",
       "      <td>Campylobacter spp. (all species)</td>\n",
       "      <td>$2,181,485,783</td>\n",
       "      <td>845024.0</td>\n",
       "    </tr>\n",
       "    <tr>\n",
       "      <th>5</th>\n",
       "      <td>Clostridium perfringens</td>\n",
       "      <td>$384,277,856</td>\n",
       "      <td>965958.0</td>\n",
       "    </tr>\n",
       "    <tr>\n",
       "      <th>6</th>\n",
       "      <td>Vibrio vulnificus</td>\n",
       "      <td>$359,481,557</td>\n",
       "      <td>96.0</td>\n",
       "    </tr>\n",
       "    <tr>\n",
       "      <th>7</th>\n",
       "      <td>Yersinia enterocolitica</td>\n",
       "      <td>$313,297,920</td>\n",
       "      <td>97656.0</td>\n",
       "    </tr>\n",
       "    <tr>\n",
       "      <th>8</th>\n",
       "      <td>Escherichia coli O157 (STEC O157)</td>\n",
       "      <td>$311,036,907</td>\n",
       "      <td>63153.0</td>\n",
       "    </tr>\n",
       "    <tr>\n",
       "      <th>9</th>\n",
       "      <td>Shigella (all species)</td>\n",
       "      <td>$159,202,402</td>\n",
       "      <td>131254.0</td>\n",
       "    </tr>\n",
       "    <tr>\n",
       "      <th>10</th>\n",
       "      <td>Vibrio non-cholera spp.</td>\n",
       "      <td>$81,749,064</td>\n",
       "      <td>17564.0</td>\n",
       "    </tr>\n",
       "    <tr>\n",
       "      <th>11</th>\n",
       "      <td>Cryptosporidium spp. (all species)</td>\n",
       "      <td>$58,394,152</td>\n",
       "      <td>57616.0</td>\n",
       "    </tr>\n",
       "    <tr>\n",
       "      <th>12</th>\n",
       "      <td>Vibrio parahaemolyticus</td>\n",
       "      <td>$45,735,332</td>\n",
       "      <td>34664.0</td>\n",
       "    </tr>\n",
       "    <tr>\n",
       "      <th>13</th>\n",
       "      <td>Escherichia coli (STEC non-O157)</td>\n",
       "      <td>$31,701,852</td>\n",
       "      <td>112752.0</td>\n",
       "    </tr>\n",
       "    <tr>\n",
       "      <th>14</th>\n",
       "      <td>Cyclospora cayetanensis</td>\n",
       "      <td>$2,571,518</td>\n",
       "      <td>11407.0</td>\n",
       "    </tr>\n",
       "  </tbody>\n",
       "</table>\n",
       "</div>"
      ],
      "text/plain": [
       "                              Pathogen            Cost      Cases\n",
       "0   Salmonella (non-typhoidal species)  $4,142,179,161  1027561.0\n",
       "1                    Toxoplasma gondii  $3,744,008,907    86686.0\n",
       "2               Listeria monocytogenes  $3,189,686,110     1591.0\n",
       "3                            Norovirus  $2,566,984,191  5461731.0\n",
       "4     Campylobacter spp. (all species)  $2,181,485,783   845024.0\n",
       "5              Clostridium perfringens    $384,277,856   965958.0\n",
       "6                    Vibrio vulnificus    $359,481,557       96.0\n",
       "7              Yersinia enterocolitica    $313,297,920    97656.0\n",
       "8    Escherichia coli O157 (STEC O157)    $311,036,907    63153.0\n",
       "9               Shigella (all species)    $159,202,402   131254.0\n",
       "10             Vibrio non-cholera spp.     $81,749,064    17564.0\n",
       "11  Cryptosporidium spp. (all species)     $58,394,152    57616.0\n",
       "12             Vibrio parahaemolyticus     $45,735,332    34664.0\n",
       "13    Escherichia coli (STEC non-O157)     $31,701,852   112752.0\n",
       "14             Cyclospora cayetanensis      $2,571,518    11407.0"
      ]
     },
     "execution_count": 6,
     "metadata": {},
     "output_type": "execute_result"
    }
   ],
   "source": [
    "#tcost_df = tcost_df.drop(index=[15])\n",
    "#tcost_df = tcost_df.sort_values('Cost', ascending = False).reset_index(drop=True)\n",
    "tcostusd_df = tcost_df.copy()\n",
    "tcostusd_df['Cost'] = tcostusd_df['Cost'].apply(lambda x: '${:,.0f}'.format(x))\n",
    "#tcostusd_df[tcostusd_df.Cost[1:]] = tcostusd_df[tcostusd_df.Cost[1:]].replace('[\\$,]', '', regex=True).astype(float)\n",
    "\n",
    "tcostusd_df"
   ]
  },
  {
   "cell_type": "code",
   "execution_count": 7,
   "id": "1b830ac1",
   "metadata": {},
   "outputs": [
    {
     "data": {
      "text/html": [
       "<div>\n",
       "<style scoped>\n",
       "    .dataframe tbody tr th:only-of-type {\n",
       "        vertical-align: middle;\n",
       "    }\n",
       "\n",
       "    .dataframe tbody tr th {\n",
       "        vertical-align: top;\n",
       "    }\n",
       "\n",
       "    .dataframe thead th {\n",
       "        text-align: right;\n",
       "    }\n",
       "</style>\n",
       "<table border=\"1\" class=\"dataframe\">\n",
       "  <thead>\n",
       "    <tr style=\"text-align: right;\">\n",
       "      <th></th>\n",
       "      <th>Cost</th>\n",
       "      <th>Cases</th>\n",
       "    </tr>\n",
       "    <tr>\n",
       "      <th>Pathogen</th>\n",
       "      <th></th>\n",
       "      <th></th>\n",
       "    </tr>\n",
       "  </thead>\n",
       "  <tbody>\n",
       "    <tr>\n",
       "      <th>Salmonella (non-typhoidal species)</th>\n",
       "      <td>4.142179e+09</td>\n",
       "      <td>1027561.0</td>\n",
       "    </tr>\n",
       "    <tr>\n",
       "      <th>Toxoplasma gondii</th>\n",
       "      <td>3.744009e+09</td>\n",
       "      <td>86686.0</td>\n",
       "    </tr>\n",
       "    <tr>\n",
       "      <th>Listeria monocytogenes</th>\n",
       "      <td>3.189686e+09</td>\n",
       "      <td>1591.0</td>\n",
       "    </tr>\n",
       "    <tr>\n",
       "      <th>Norovirus</th>\n",
       "      <td>2.566984e+09</td>\n",
       "      <td>5461731.0</td>\n",
       "    </tr>\n",
       "    <tr>\n",
       "      <th>Campylobacter spp. (all species)</th>\n",
       "      <td>2.181486e+09</td>\n",
       "      <td>845024.0</td>\n",
       "    </tr>\n",
       "    <tr>\n",
       "      <th>Clostridium perfringens</th>\n",
       "      <td>3.842779e+08</td>\n",
       "      <td>965958.0</td>\n",
       "    </tr>\n",
       "    <tr>\n",
       "      <th>Vibrio vulnificus</th>\n",
       "      <td>3.594816e+08</td>\n",
       "      <td>96.0</td>\n",
       "    </tr>\n",
       "    <tr>\n",
       "      <th>Yersinia enterocolitica</th>\n",
       "      <td>3.132979e+08</td>\n",
       "      <td>97656.0</td>\n",
       "    </tr>\n",
       "    <tr>\n",
       "      <th>Escherichia coli O157 (STEC O157)</th>\n",
       "      <td>3.110369e+08</td>\n",
       "      <td>63153.0</td>\n",
       "    </tr>\n",
       "    <tr>\n",
       "      <th>Shigella (all species)</th>\n",
       "      <td>1.592024e+08</td>\n",
       "      <td>131254.0</td>\n",
       "    </tr>\n",
       "    <tr>\n",
       "      <th>Vibrio non-cholera spp.</th>\n",
       "      <td>8.174906e+07</td>\n",
       "      <td>17564.0</td>\n",
       "    </tr>\n",
       "    <tr>\n",
       "      <th>Cryptosporidium spp. (all species)</th>\n",
       "      <td>5.839415e+07</td>\n",
       "      <td>57616.0</td>\n",
       "    </tr>\n",
       "    <tr>\n",
       "      <th>Vibrio parahaemolyticus</th>\n",
       "      <td>4.573533e+07</td>\n",
       "      <td>34664.0</td>\n",
       "    </tr>\n",
       "    <tr>\n",
       "      <th>Escherichia coli (STEC non-O157)</th>\n",
       "      <td>3.170185e+07</td>\n",
       "      <td>112752.0</td>\n",
       "    </tr>\n",
       "    <tr>\n",
       "      <th>Cyclospora cayetanensis</th>\n",
       "      <td>2.571518e+06</td>\n",
       "      <td>11407.0</td>\n",
       "    </tr>\n",
       "  </tbody>\n",
       "</table>\n",
       "</div>"
      ],
      "text/plain": [
       "                                            Cost      Cases\n",
       "Pathogen                                                   \n",
       "Salmonella (non-typhoidal species)  4.142179e+09  1027561.0\n",
       "Toxoplasma gondii                   3.744009e+09    86686.0\n",
       "Listeria monocytogenes              3.189686e+09     1591.0\n",
       "Norovirus                           2.566984e+09  5461731.0\n",
       "Campylobacter spp. (all species)    2.181486e+09   845024.0\n",
       "Clostridium perfringens             3.842779e+08   965958.0\n",
       "Vibrio vulnificus                   3.594816e+08       96.0\n",
       "Yersinia enterocolitica             3.132979e+08    97656.0\n",
       "Escherichia coli O157 (STEC O157)   3.110369e+08    63153.0\n",
       "Shigella (all species)              1.592024e+08   131254.0\n",
       "Vibrio non-cholera spp.             8.174906e+07    17564.0\n",
       "Cryptosporidium spp. (all species)  5.839415e+07    57616.0\n",
       "Vibrio parahaemolyticus             4.573533e+07    34664.0\n",
       "Escherichia coli (STEC non-O157)    3.170185e+07   112752.0\n",
       "Cyclospora cayetanensis             2.571518e+06    11407.0"
      ]
     },
     "execution_count": 7,
     "metadata": {},
     "output_type": "execute_result"
    }
   ],
   "source": [
    "tcost_df = tcost_df.set_index('Pathogen')\n",
    "#tcost_df = tcost_df.groupby(by='Pathogen').sum()\n",
    "tcost_df = tcost_df.sort_values('Cost', ascending = False)\n",
    "tcost_df"
   ]
  },
  {
   "cell_type": "code",
   "execution_count": 8,
   "id": "211f09e7",
   "metadata": {},
   "outputs": [],
   "source": [
    "# plt.figure(figsize=(14,6))\n",
    "# plt.bar(tcost_df.pathogen, tcost_df['Cost'])\n",
    "\n",
    "# plt.xticks(tcost_df.pathogen, rotation=90)\n",
    "# plt.xlabel('Pathogen', fontsize=14)\n",
    "# plt.ylabel('Cost', fontsize=14)\n",
    "# plt.title('Estimated Monetary Cost of Foodborne Illness in the US-Top 15 Pathogens', fontsize=18);"
   ]
  },
  {
   "cell_type": "code",
   "execution_count": 9,
   "id": "2b3bea52",
   "metadata": {},
   "outputs": [
    {
     "data": {
      "text/plain": [
       "Pathogen     object\n",
       "Cost         object\n",
       "Cases       float64\n",
       "dtype: object"
      ]
     },
     "execution_count": 9,
     "metadata": {},
     "output_type": "execute_result"
    }
   ],
   "source": [
    "tcostusd_df.dtypes\n"
   ]
  },
  {
   "cell_type": "code",
   "execution_count": 10,
   "id": "934d0941",
   "metadata": {
    "scrolled": true
   },
   "outputs": [
    {
     "data": {
      "image/png": "[encoded data removed]",
      "text/plain": [
       "<Figure size 1008x432 with 1 Axes>"
      ]
     },
     "metadata": {
      "needs_background": "light"
     },
     "output_type": "display_data"
    }
   ],
   "source": [
    "plt.figure(figsize=(14,6))\n",
    "plt.barh(tcost_df.index.values, tcost_df['Cost'])\n",
    "#plt.barh(tcost_df.index.values, tcost_df['Cost'])\n",
    "\n",
    "plt.yticks(tcost_df.index.values)\n",
    "#plt.xticks(tcost_df['Cost'], rotation = 90)\n",
    "plt.ylabel('Pathogen', fontsize=14)\n",
    "plt.xlabel('Cost in $Billions', fontsize=14)\n",
    "plt.title('Estimated Monetary Cost of Foodborne Illness in the US in 2018-Top 15 Pathogens', fontsize=18);"
   ]
  },
  {
   "cell_type": "code",
   "execution_count": 11,
   "id": "8fef2cd8",
   "metadata": {},
   "outputs": [],
   "source": [
    "# plt.figure(figsize=(14,6))\n",
    "# plt.barh(tcostusd_df.Pathogen, tcostusd_df['Cost'])\n",
    "# #plt.barh(tcost_df.index.values, tcost_df['Cost'])\n",
    "\n",
    "# plt.yticks(tcostusd_df.Pathogen)\n",
    "# plt.xticks(rotation = 45)\n",
    "# plt.ylabel('Pathogen', fontsize=14)\n",
    "# plt.xlabel('Cost', fontsize=14)\n",
    "# plt.title('Estimated Monetary Cost of Foodborne Illness in the US-Top 15 Pathogens', fontsize=18);"
   ]
  },
  {
   "cell_type": "code",
   "execution_count": 12,
   "id": "b49f43a3",
   "metadata": {},
   "outputs": [
    {
     "data": {
      "image/png": "[encoded data removed]",
      "text/plain": [
       "<Figure size 576x432 with 1 Axes>"
      ]
     },
     "metadata": {
      "needs_background": "light"
     },
     "output_type": "display_data"
    }
   ],
   "source": [
    "fig, ax = plt.subplots(figsize=(8, 6))\n",
    "# horizontal barplot with barh()\n",
    "ax.barh(tcostusd_df.Pathogen, tcostusd_df['Cost'])\n",
    "labels = ax.get_xticklabels()\n",
    "plt.setp(labels, \n",
    "     rotation=45, \n",
    "     horizontalalignment='right')\n",
    "ax.set(xlim=[0, 18], \n",
    "   xlabel='Cost in $Billions', \n",
    "   ylabel='Pathogen',\n",
    "   title='Estimated Monetary Cost of Foodborne Illness in the US-Top 15 Pathogens')\n",
    "ax.xaxis.set_major_formatter('${x:1.0f}')\n",
    "#plt.savefig(\"barplot_with_dollar_ticks_formating_on_x_axis_Matplotlib_Python.png\")"
   ]
  },
  {
   "cell_type": "code",
   "execution_count": 13,
   "id": "67287f91",
   "metadata": {},
   "outputs": [
    {
     "data": {
      "text/html": [
       "<div>\n",
       "<style scoped>\n",
       "    .dataframe tbody tr th:only-of-type {\n",
       "        vertical-align: middle;\n",
       "    }\n",
       "\n",
       "    .dataframe tbody tr th {\n",
       "        vertical-align: top;\n",
       "    }\n",
       "\n",
       "    .dataframe thead th {\n",
       "        text-align: right;\n",
       "    }\n",
       "</style>\n",
       "<table border=\"1\" class=\"dataframe\">\n",
       "  <thead>\n",
       "    <tr style=\"text-align: right;\">\n",
       "      <th></th>\n",
       "      <th>Pathogen</th>\n",
       "      <th>Cost</th>\n",
       "      <th>Cases</th>\n",
       "    </tr>\n",
       "  </thead>\n",
       "  <tbody>\n",
       "    <tr>\n",
       "      <th>0</th>\n",
       "      <td>Cyclospora cayetanensis</td>\n",
       "      <td>2.571518e+06</td>\n",
       "      <td>11407.0</td>\n",
       "    </tr>\n",
       "    <tr>\n",
       "      <th>1</th>\n",
       "      <td>Escherichia coli (STEC non-O157)</td>\n",
       "      <td>3.170185e+07</td>\n",
       "      <td>112752.0</td>\n",
       "    </tr>\n",
       "    <tr>\n",
       "      <th>2</th>\n",
       "      <td>Vibrio parahaemolyticus</td>\n",
       "      <td>4.573533e+07</td>\n",
       "      <td>34664.0</td>\n",
       "    </tr>\n",
       "    <tr>\n",
       "      <th>3</th>\n",
       "      <td>Cryptosporidium spp. (all species)</td>\n",
       "      <td>5.839415e+07</td>\n",
       "      <td>57616.0</td>\n",
       "    </tr>\n",
       "    <tr>\n",
       "      <th>4</th>\n",
       "      <td>Vibrio non-cholera spp.</td>\n",
       "      <td>8.174906e+07</td>\n",
       "      <td>17564.0</td>\n",
       "    </tr>\n",
       "    <tr>\n",
       "      <th>5</th>\n",
       "      <td>Shigella (all species)</td>\n",
       "      <td>1.592024e+08</td>\n",
       "      <td>131254.0</td>\n",
       "    </tr>\n",
       "    <tr>\n",
       "      <th>6</th>\n",
       "      <td>Escherichia coli O157 (STEC O157)</td>\n",
       "      <td>3.110369e+08</td>\n",
       "      <td>63153.0</td>\n",
       "    </tr>\n",
       "    <tr>\n",
       "      <th>7</th>\n",
       "      <td>Yersinia enterocolitica</td>\n",
       "      <td>3.132979e+08</td>\n",
       "      <td>97656.0</td>\n",
       "    </tr>\n",
       "    <tr>\n",
       "      <th>8</th>\n",
       "      <td>Vibrio vulnificus</td>\n",
       "      <td>3.594816e+08</td>\n",
       "      <td>96.0</td>\n",
       "    </tr>\n",
       "    <tr>\n",
       "      <th>9</th>\n",
       "      <td>Clostridium perfringens</td>\n",
       "      <td>3.842779e+08</td>\n",
       "      <td>965958.0</td>\n",
       "    </tr>\n",
       "    <tr>\n",
       "      <th>10</th>\n",
       "      <td>Campylobacter spp. (all species)</td>\n",
       "      <td>2.181486e+09</td>\n",
       "      <td>845024.0</td>\n",
       "    </tr>\n",
       "    <tr>\n",
       "      <th>11</th>\n",
       "      <td>Norovirus</td>\n",
       "      <td>2.566984e+09</td>\n",
       "      <td>5461731.0</td>\n",
       "    </tr>\n",
       "    <tr>\n",
       "      <th>12</th>\n",
       "      <td>Listeria monocytogenes</td>\n",
       "      <td>3.189686e+09</td>\n",
       "      <td>1591.0</td>\n",
       "    </tr>\n",
       "    <tr>\n",
       "      <th>13</th>\n",
       "      <td>Toxoplasma gondii</td>\n",
       "      <td>3.744009e+09</td>\n",
       "      <td>86686.0</td>\n",
       "    </tr>\n",
       "    <tr>\n",
       "      <th>14</th>\n",
       "      <td>Salmonella (non-typhoidal species)</td>\n",
       "      <td>4.142179e+09</td>\n",
       "      <td>1027561.0</td>\n",
       "    </tr>\n",
       "    <tr>\n",
       "      <th>15</th>\n",
       "      <td>Total for all 15 pathogens</td>\n",
       "      <td>1.757179e+10</td>\n",
       "      <td>8914713.0</td>\n",
       "    </tr>\n",
       "  </tbody>\n",
       "</table>\n",
       "</div>"
      ],
      "text/plain": [
       "                              Pathogen          Cost      Cases\n",
       "0              Cyclospora cayetanensis  2.571518e+06    11407.0\n",
       "1     Escherichia coli (STEC non-O157)  3.170185e+07   112752.0\n",
       "2              Vibrio parahaemolyticus  4.573533e+07    34664.0\n",
       "3   Cryptosporidium spp. (all species)  5.839415e+07    57616.0\n",
       "4              Vibrio non-cholera spp.  8.174906e+07    17564.0\n",
       "5               Shigella (all species)  1.592024e+08   131254.0\n",
       "6    Escherichia coli O157 (STEC O157)  3.110369e+08    63153.0\n",
       "7              Yersinia enterocolitica  3.132979e+08    97656.0\n",
       "8                    Vibrio vulnificus  3.594816e+08       96.0\n",
       "9              Clostridium perfringens  3.842779e+08   965958.0\n",
       "10    Campylobacter spp. (all species)  2.181486e+09   845024.0\n",
       "11                           Norovirus  2.566984e+09  5461731.0\n",
       "12              Listeria monocytogenes  3.189686e+09     1591.0\n",
       "13                   Toxoplasma gondii  3.744009e+09    86686.0\n",
       "14  Salmonella (non-typhoidal species)  4.142179e+09  1027561.0\n",
       "15          Total for all 15 pathogens  1.757179e+10  8914713.0"
      ]
     },
     "execution_count": 13,
     "metadata": {},
     "output_type": "execute_result"
    }
   ],
   "source": [
    "tcases_df = pd.read_excel('../data_files/Total_cost_for_top_15_pathogens_2018_USDA.xlsx', \n",
    "                     usecols='A:C', skiprows=4).dropna().reset_index(drop=True)\n",
    "tcases_df = tcases_df.rename(columns = {'Unnamed: 0': 'Pathogen'})\n",
    "tcases_df"
   ]
  },
  {
   "cell_type": "code",
   "execution_count": 14,
   "id": "f67734be",
   "metadata": {},
   "outputs": [
    {
     "data": {
      "text/html": [
       "<div>\n",
       "<style scoped>\n",
       "    .dataframe tbody tr th:only-of-type {\n",
       "        vertical-align: middle;\n",
       "    }\n",
       "\n",
       "    .dataframe tbody tr th {\n",
       "        vertical-align: top;\n",
       "    }\n",
       "\n",
       "    .dataframe thead th {\n",
       "        text-align: right;\n",
       "    }\n",
       "</style>\n",
       "<table border=\"1\" class=\"dataframe\">\n",
       "  <thead>\n",
       "    <tr style=\"text-align: right;\">\n",
       "      <th></th>\n",
       "      <th>Cost</th>\n",
       "      <th>Cases</th>\n",
       "    </tr>\n",
       "    <tr>\n",
       "      <th>Pathogen</th>\n",
       "      <th></th>\n",
       "      <th></th>\n",
       "    </tr>\n",
       "  </thead>\n",
       "  <tbody>\n",
       "    <tr>\n",
       "      <th>Norovirus</th>\n",
       "      <td>2.566984e+09</td>\n",
       "      <td>5461731.0</td>\n",
       "    </tr>\n",
       "    <tr>\n",
       "      <th>Salmonella (non-typhoidal species)</th>\n",
       "      <td>4.142179e+09</td>\n",
       "      <td>1027561.0</td>\n",
       "    </tr>\n",
       "    <tr>\n",
       "      <th>Clostridium perfringens</th>\n",
       "      <td>3.842779e+08</td>\n",
       "      <td>965958.0</td>\n",
       "    </tr>\n",
       "    <tr>\n",
       "      <th>Campylobacter spp. (all species)</th>\n",
       "      <td>2.181486e+09</td>\n",
       "      <td>845024.0</td>\n",
       "    </tr>\n",
       "    <tr>\n",
       "      <th>Shigella (all species)</th>\n",
       "      <td>1.592024e+08</td>\n",
       "      <td>131254.0</td>\n",
       "    </tr>\n",
       "    <tr>\n",
       "      <th>Escherichia coli (STEC non-O157)</th>\n",
       "      <td>3.170185e+07</td>\n",
       "      <td>112752.0</td>\n",
       "    </tr>\n",
       "    <tr>\n",
       "      <th>Yersinia enterocolitica</th>\n",
       "      <td>3.132979e+08</td>\n",
       "      <td>97656.0</td>\n",
       "    </tr>\n",
       "    <tr>\n",
       "      <th>Toxoplasma gondii</th>\n",
       "      <td>3.744009e+09</td>\n",
       "      <td>86686.0</td>\n",
       "    </tr>\n",
       "    <tr>\n",
       "      <th>Escherichia coli O157 (STEC O157)</th>\n",
       "      <td>3.110369e+08</td>\n",
       "      <td>63153.0</td>\n",
       "    </tr>\n",
       "    <tr>\n",
       "      <th>Cryptosporidium spp. (all species)</th>\n",
       "      <td>5.839415e+07</td>\n",
       "      <td>57616.0</td>\n",
       "    </tr>\n",
       "    <tr>\n",
       "      <th>Vibrio parahaemolyticus</th>\n",
       "      <td>4.573533e+07</td>\n",
       "      <td>34664.0</td>\n",
       "    </tr>\n",
       "    <tr>\n",
       "      <th>Vibrio non-cholera spp.</th>\n",
       "      <td>8.174906e+07</td>\n",
       "      <td>17564.0</td>\n",
       "    </tr>\n",
       "    <tr>\n",
       "      <th>Cyclospora cayetanensis</th>\n",
       "      <td>2.571518e+06</td>\n",
       "      <td>11407.0</td>\n",
       "    </tr>\n",
       "    <tr>\n",
       "      <th>Listeria monocytogenes</th>\n",
       "      <td>3.189686e+09</td>\n",
       "      <td>1591.0</td>\n",
       "    </tr>\n",
       "    <tr>\n",
       "      <th>Vibrio vulnificus</th>\n",
       "      <td>3.594816e+08</td>\n",
       "      <td>96.0</td>\n",
       "    </tr>\n",
       "  </tbody>\n",
       "</table>\n",
       "</div>"
      ],
      "text/plain": [
       "                                            Cost      Cases\n",
       "Pathogen                                                   \n",
       "Norovirus                           2.566984e+09  5461731.0\n",
       "Salmonella (non-typhoidal species)  4.142179e+09  1027561.0\n",
       "Clostridium perfringens             3.842779e+08   965958.0\n",
       "Campylobacter spp. (all species)    2.181486e+09   845024.0\n",
       "Shigella (all species)              1.592024e+08   131254.0\n",
       "Escherichia coli (STEC non-O157)    3.170185e+07   112752.0\n",
       "Yersinia enterocolitica             3.132979e+08    97656.0\n",
       "Toxoplasma gondii                   3.744009e+09    86686.0\n",
       "Escherichia coli O157 (STEC O157)   3.110369e+08    63153.0\n",
       "Cryptosporidium spp. (all species)  5.839415e+07    57616.0\n",
       "Vibrio parahaemolyticus             4.573533e+07    34664.0\n",
       "Vibrio non-cholera spp.             8.174906e+07    17564.0\n",
       "Cyclospora cayetanensis             2.571518e+06    11407.0\n",
       "Listeria monocytogenes              3.189686e+09     1591.0\n",
       "Vibrio vulnificus                   3.594816e+08       96.0"
      ]
     },
     "execution_count": 14,
     "metadata": {},
     "output_type": "execute_result"
    }
   ],
   "source": [
    "tcases_df = tcases_df.drop(index=[15])\n",
    "tcases_df = tcases_df.set_index('Pathogen')\n",
    "tcases_df = tcases_df.sort_values('Cases', ascending = False)\n",
    "tcases_df"
   ]
  },
  {
   "cell_type": "code",
   "execution_count": null,
   "id": "6b4d1e07",
   "metadata": {},
   "outputs": [],
   "source": []
  }
 ],
 "metadata": {
  "kernelspec": {
   "display_name": "Python 3",
   "language": "python",
   "name": "python3"
  },
  "language_info": {
   "codemirror_mode": {
    "name": "ipython",
    "version": 3
   },
   "file_extension": ".py",
   "mimetype": "text/x-python",
   "name": "python",
   "nbconvert_exporter": "python",
   "pygments_lexer": "ipython3",
   "version": "3.8.8"
  }
 },
 "nbformat": 4,
 "nbformat_minor": 5
}
